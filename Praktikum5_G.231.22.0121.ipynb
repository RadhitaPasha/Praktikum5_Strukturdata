{
  "nbformat": 4,
  "nbformat_minor": 0,
  "metadata": {
    "colab": {
      "provenance": [],
      "authorship_tag": "ABX9TyMVc7GDJNlhsLaLJMMOAuIs",
      "include_colab_link": true
    },
    "kernelspec": {
      "name": "python3",
      "display_name": "Python 3"
    },
    "language_info": {
      "name": "python"
    }
  },
  "cells": [
    {
      "cell_type": "markdown",
      "metadata": {
        "id": "view-in-github",
        "colab_type": "text"
      },
      "source": [
        "<a href=\"https://colab.research.google.com/github/RadhitaPasha/Praktikum5_Strukturdata/blob/main/Praktikum5_G.231.22.0121.ipynb\" target=\"_parent\"><img src=\"https://colab.research.google.com/assets/colab-badge.svg\" alt=\"Open In Colab\"/></a>"
      ]
    },
    {
      "cell_type": "markdown",
      "source": [
        "**Program Python untuk implementasi Bubble Sort**"
      ],
      "metadata": {
        "id": "2s25-deWnt4H"
      }
    },
    {
      "cell_type": "code",
      "execution_count": 7,
      "metadata": {
        "colab": {
          "base_uri": "https://localhost:8080/"
        },
        "id": "SViyVulQm9aU",
        "outputId": "d00d093a-9249-4525-a935-d5e8f18b5887"
      },
      "outputs": [
        {
          "output_type": "stream",
          "name": "stdout",
          "text": [
            "Array yang sudah urut:\n",
            " 12  22  11  25  34  64  90 "
          ]
        }
      ],
      "source": [
        "# Program Python untuk implementasi Bubble Sort\n",
        "def bubbleSort(arr):\n",
        " # Mendapaptkan panjang array\n",
        " n = len(arr)\n",
        " # flag untuk melacak ada pertukaran selama satu iterasi\n",
        " swapped = False\n",
        "\n",
        " # Iterasi untuk setiap passthrough pada array\n",
        " for i in range(n-1):\n",
        "  # Iterasi dalam untuk membandingkan dan menukar elemen\n",
        "  for j in range(0, n-i-1):\n",
        "    # Membandingkan elemen yang berdekatan dan menukar jika :\n",
        "    if arr[j] > arr[j + 1]:\n",
        "      swapped = True\n",
        "      arr[j], arr[j + 1] = arr[j + 1], arr[j]\n",
        "    # Mencoba Pertukaran elemen menggunakan if else\n",
        "    if not swapped:\n",
        "      break\n",
        "    else:\n",
        "      swapped = False\n",
        "\n",
        "# Angka pengujian\n",
        "arr = [64, 34, 25, 12, 22, 11, 90]\n",
        "bubbleSort(arr)\n",
        "# Menampilkan array yang sudah urut\n",
        "print(\"Array yang sudah urut:\")\n",
        "for i in range(len(arr)):\n",
        "  print(\"% d\" % arr[i], end=\" \")\n"
      ]
    },
    {
      "cell_type": "markdown",
      "source": [
        "**Program Python untuk implementasi Selection Sort**"
      ],
      "metadata": {
        "id": "CjhwaGOQUJWP"
      }
    },
    {
      "cell_type": "code",
      "source": [
        "# Program Python untuk implementasi Selection Sort\n",
        "def selectionsort(ab):\n",
        " C = len(ab)\n",
        " swapped = False\n",
        "\n",
        " # Array yang akan diurutkan\n",
        "ab = [64, 25, 12, 22, 11]\n",
        "\n",
        "# Iterasi melalui setiap elemen array\n",
        "for i in range(len(ab)):\n",
        "    # Inisialisasi indeks minimum\n",
        "    min_idx = i\n",
        "\n",
        "    # Iterasi untuk mencari elemen terkecil dari sisa array\n",
        "    for j in range(i + 1, len(ab)):\n",
        "        # Membandingkan elemen dengan elemen minimum yang ditemukan\n",
        "        if ab[j] < ab[min_idx]:\n",
        "            min_idx = j\n",
        "\n",
        "    # Menukar elemen terkecil dengan elemen pada posisi i\n",
        "    if i != min_idx:\n",
        "        ab[i], ab[min_idx] = ab[min_idx], ab[i]\n",
        "\n",
        "# Menampilkan array yang sudah terurut\n",
        "print(\"Array yang sudah urut:\")\n",
        "for i in range(len(ab)):\n",
        "    print(\"%d\" % ab[i], end=\" \")\n"
      ],
      "metadata": {
        "colab": {
          "base_uri": "https://localhost:8080/"
        },
        "id": "GEDts3TOMhhW",
        "outputId": "d3d48fcf-c51b-4228-d9f1-84e7d234bf2e"
      },
      "execution_count": 8,
      "outputs": [
        {
          "output_type": "stream",
          "name": "stdout",
          "text": [
            "Array yang sudah urut:\n",
            "11 12 22 25 64 "
          ]
        }
      ]
    },
    {
      "cell_type": "markdown",
      "source": [
        "**Program Python untuk implementasi Insertion Sort**"
      ],
      "metadata": {
        "id": "ZCTnp7ryUOGE"
      }
    },
    {
      "cell_type": "code",
      "source": [
        "# Program Python untuk implementasi Insertion Sort\n",
        "def InsertionSort(ab):\n",
        "    # Iterasi mulai dari indeks kedua elemen hingga panjang array\n",
        "    for p in range(1, len(ab)):\n",
        "        # Mengambil elemen yang akan diinsert\n",
        "        key = arr[p]\n",
        "        # Menyiapkan indeks untuk membandingkan dan menyisipkan elemen\n",
        "        j = p - 1\n",
        "\n",
        "        # Memindahkan elemen-elemen yang lebih besar dari key ke posisi selanjutnya\n",
        "        while j >= 0 and key < arr[j]:\n",
        "            arr[j + 1] = arr[j]\n",
        "            j -= 1\n",
        "\n",
        "        # Memasukkan key ke posisi yang benar\n",
        "        if j != p - 1:\n",
        "            arr[j + 1] = key\n",
        "        else:\n",
        "            arr[p] = key\n",
        "\n",
        "# Angka pengujian\n",
        "arr = [12, 11, 13, 5, 6]\n",
        "InsertionSort(ab)\n",
        "\n",
        "\n",
        "# Menampilkan array yang sudah terurut\n",
        "print(\"Array yang sudah terurut:\")\n",
        "for p in range(len(ab)):\n",
        "    print(\"%d\" % arr[p], end=\" \")\n"
      ],
      "metadata": {
        "colab": {
          "base_uri": "https://localhost:8080/"
        },
        "id": "WAqvILx4PNOL",
        "outputId": "548e797d-e15a-4310-d36e-07e549c7667c"
      },
      "execution_count": 6,
      "outputs": [
        {
          "output_type": "stream",
          "name": "stdout",
          "text": [
            "Array yang sudah terurut:\n",
            "5 6 11 12 13 "
          ]
        }
      ]
    }
  ]
}